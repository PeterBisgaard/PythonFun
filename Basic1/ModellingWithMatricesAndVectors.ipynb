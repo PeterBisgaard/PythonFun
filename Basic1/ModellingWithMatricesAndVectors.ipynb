{
 "cells": [
  {
   "cell_type": "markdown",
   "metadata": {},
   "source": [
    "# Matematisk modellering\n",
    "Gentle Introduction to Modeling with Matrices and Vectors: A Probabilistic Weather Model\n",
    "Eksempel fra: https://www.youtube.com/watch?v=K-8F_zDMDUI&t=943s\n"
   ]
  },
  {
   "cell_type": "code",
   "execution_count": 1,
   "metadata": {},
   "outputs": [],
   "source": [
    "\n",
    "import numpy as np\n",
    "from matplotlib import pyplot as plt\n"
   ]
  },
  {
   "cell_type": "code",
   "execution_count": 2,
   "metadata": {},
   "outputs": [],
   "source": [
    "A = np.array([[0.5,0.5,0.25],[0.25,0.0,0.25],[0.25,0.5,0.5]])"
   ]
  },
  {
   "cell_type": "code",
   "execution_count": 3,
   "metadata": {},
   "outputs": [
    {
     "name": "stdout",
     "output_type": "stream",
     "text": [
      "[[0.5  0.5  0.25]\n",
      " [0.25 0.   0.25]\n",
      " [0.25 0.5  0.5 ]]\n"
     ]
    }
   ],
   "source": [
    "print(A)"
   ]
  },
  {
   "cell_type": "code",
   "execution_count": 4,
   "metadata": {},
   "outputs": [],
   "source": [
    "xtoday = np.array([[0],[1],[0]])"
   ]
  },
  {
   "cell_type": "code",
   "execution_count": 5,
   "metadata": {},
   "outputs": [
    {
     "name": "stdout",
     "output_type": "stream",
     "text": [
      "[[0]\n",
      " [1]\n",
      " [0]]\n"
     ]
    }
   ],
   "source": [
    "print(xtoday)\n"
   ]
  },
  {
   "cell_type": "code",
   "execution_count": 6,
   "metadata": {},
   "outputs": [
    {
     "name": "stdout",
     "output_type": "stream",
     "text": [
      "[[0.5]\n",
      " [0. ]\n",
      " [0.5]]\n"
     ]
    }
   ],
   "source": [
    "print(A@xtoday)"
   ]
  },
  {
   "cell_type": "markdown",
   "metadata": {},
   "source": [
    "A@xtoday betyder Matrisen A ganget med Vektoren xtoday"
   ]
  },
  {
   "cell_type": "code",
   "execution_count": 7,
   "metadata": {},
   "outputs": [
    {
     "name": "stdout",
     "output_type": "stream",
     "text": [
      "0\n",
      "[[0.5]\n",
      " [0. ]\n",
      " [0.5]]\n",
      "1\n",
      "[[0.375]\n",
      " [0.25 ]\n",
      " [0.375]]\n",
      "2\n",
      "[[0.40625]\n",
      " [0.1875 ]\n",
      " [0.40625]]\n",
      "3\n",
      "[[0.3984375]\n",
      " [0.203125 ]\n",
      " [0.3984375]]\n",
      "4\n",
      "[[0.40039062]\n",
      " [0.19921875]\n",
      " [0.40039062]]\n",
      "5\n",
      "[[0.39990234]\n",
      " [0.20019531]\n",
      " [0.39990234]]\n",
      "6\n",
      "[[0.40002441]\n",
      " [0.19995117]\n",
      " [0.40002441]]\n",
      "7\n",
      "[[0.3999939 ]\n",
      " [0.20001221]\n",
      " [0.3999939 ]]\n",
      "8\n",
      "[[0.40000153]\n",
      " [0.19999695]\n",
      " [0.40000153]]\n",
      "9\n",
      "[[0.39999962]\n",
      " [0.20000076]\n",
      " [0.39999962]]\n",
      "10\n",
      "[[0.4000001 ]\n",
      " [0.19999981]\n",
      " [0.4000001 ]]\n",
      "11\n",
      "[[0.39999998]\n",
      " [0.20000005]\n",
      " [0.39999998]]\n",
      "12\n",
      "[[0.40000001]\n",
      " [0.19999999]\n",
      " [0.40000001]]\n",
      "13\n",
      "[[0.4]\n",
      " [0.2]\n",
      " [0.4]]\n",
      "14\n",
      "[[0.4]\n",
      " [0.2]\n",
      " [0.4]]\n",
      "15\n",
      "[[0.4]\n",
      " [0.2]\n",
      " [0.4]]\n",
      "16\n",
      "[[0.4]\n",
      " [0.2]\n",
      " [0.4]]\n",
      "17\n",
      "[[0.4]\n",
      " [0.2]\n",
      " [0.4]]\n",
      "18\n",
      "[[0.4]\n",
      " [0.2]\n",
      " [0.4]]\n",
      "19\n",
      "[[0.4]\n",
      " [0.2]\n",
      " [0.4]]\n",
      "20\n",
      "[[0.4]\n",
      " [0.2]\n",
      " [0.4]]\n",
      "21\n",
      "[[0.4]\n",
      " [0.2]\n",
      " [0.4]]\n",
      "22\n",
      "[[0.4]\n",
      " [0.2]\n",
      " [0.4]]\n",
      "23\n",
      "[[0.4]\n",
      " [0.2]\n",
      " [0.4]]\n",
      "24\n",
      "[[0.4]\n",
      " [0.2]\n",
      " [0.4]]\n",
      "25\n",
      "[[0.4]\n",
      " [0.2]\n",
      " [0.4]]\n",
      "26\n",
      "[[0.4]\n",
      " [0.2]\n",
      " [0.4]]\n",
      "27\n",
      "[[0.4]\n",
      " [0.2]\n",
      " [0.4]]\n",
      "28\n",
      "[[0.4]\n",
      " [0.2]\n",
      " [0.4]]\n",
      "29\n",
      "[[0.4]\n",
      " [0.2]\n",
      " [0.4]]\n",
      "30\n",
      "[[0.4]\n",
      " [0.2]\n",
      " [0.4]]\n",
      "31\n",
      "[[0.4]\n",
      " [0.2]\n",
      " [0.4]]\n",
      "32\n",
      "[[0.4]\n",
      " [0.2]\n",
      " [0.4]]\n",
      "33\n",
      "[[0.4]\n",
      " [0.2]\n",
      " [0.4]]\n",
      "34\n",
      "[[0.4]\n",
      " [0.2]\n",
      " [0.4]]\n",
      "35\n",
      "[[0.4]\n",
      " [0.2]\n",
      " [0.4]]\n",
      "36\n",
      "[[0.4]\n",
      " [0.2]\n",
      " [0.4]]\n",
      "37\n",
      "[[0.4]\n",
      " [0.2]\n",
      " [0.4]]\n",
      "38\n",
      "[[0.4]\n",
      " [0.2]\n",
      " [0.4]]\n",
      "39\n",
      "[[0.4]\n",
      " [0.2]\n",
      " [0.4]]\n",
      "40\n",
      "[[0.4]\n",
      " [0.2]\n",
      " [0.4]]\n",
      "41\n",
      "[[0.4]\n",
      " [0.2]\n",
      " [0.4]]\n",
      "42\n",
      "[[0.4]\n",
      " [0.2]\n",
      " [0.4]]\n",
      "43\n",
      "[[0.4]\n",
      " [0.2]\n",
      " [0.4]]\n",
      "44\n",
      "[[0.4]\n",
      " [0.2]\n",
      " [0.4]]\n",
      "45\n",
      "[[0.4]\n",
      " [0.2]\n",
      " [0.4]]\n",
      "46\n",
      "[[0.4]\n",
      " [0.2]\n",
      " [0.4]]\n",
      "47\n",
      "[[0.4]\n",
      " [0.2]\n",
      " [0.4]]\n",
      "48\n",
      "[[0.4]\n",
      " [0.2]\n",
      " [0.4]]\n",
      "49\n",
      "[[0.4]\n",
      " [0.2]\n",
      " [0.4]]\n"
     ]
    }
   ],
   "source": [
    "for k in range(50):\n",
    "    xtomorrow = A@xtoday\n",
    "    print(k)\n",
    "    print(xtomorrow)\n",
    "    xtoday = xtomorrow"
   ]
  },
  {
   "cell_type": "markdown",
   "metadata": {},
   "source": [
    "Lad os gemme forusigelserne så vi kan plotte dem"
   ]
  },
  {
   "cell_type": "code",
   "execution_count": 15,
   "metadata": {},
   "outputs": [
    {
     "name": "stdout",
     "output_type": "stream",
     "text": [
      "[[0.5        0.4375     0.40625    0.40234375 0.40039062 0.40014648\n",
      "  0.40002441 0.40000916 0.40000153 0.40000057 0.4000001  0.40000004\n",
      "  0.40000001 0.4        0.4        0.4        0.4        0.4\n",
      "  0.4        0.4        0.4        0.4        0.4        0.4\n",
      "  0.4        0.4        0.4        0.4        0.4        0.4\n",
      "  0.4        0.4        0.4        0.4        0.4        0.4\n",
      "  0.4        0.4        0.4        0.4        0.4        0.4\n",
      "  0.4        0.4        0.4        0.4        0.4        0.4\n",
      "  0.4        0.4       ]\n",
      " [0.25       0.1875     0.203125   0.19921875 0.20019531 0.19995117\n",
      "  0.20001221 0.19999695 0.20000076 0.19999981 0.20000005 0.19999999\n",
      "  0.2        0.2        0.2        0.2        0.2        0.2\n",
      "  0.2        0.2        0.2        0.2        0.2        0.2\n",
      "  0.2        0.2        0.2        0.2        0.2        0.2\n",
      "  0.2        0.2        0.2        0.2        0.2        0.2\n",
      "  0.2        0.2        0.2        0.2        0.2        0.2\n",
      "  0.2        0.2        0.2        0.2        0.2        0.2\n",
      "  0.2        0.2       ]\n",
      " [0.25       0.375      0.390625   0.3984375  0.39941406 0.39990234\n",
      "  0.39996338 0.3999939  0.39999771 0.39999962 0.39999986 0.39999998\n",
      "  0.39999999 0.4        0.4        0.4        0.4        0.4\n",
      "  0.4        0.4        0.4        0.4        0.4        0.4\n",
      "  0.4        0.4        0.4        0.4        0.4        0.4\n",
      "  0.4        0.4        0.4        0.4        0.4        0.4\n",
      "  0.4        0.4        0.4        0.4        0.4        0.4\n",
      "  0.4        0.4        0.4        0.4        0.4        0.4\n",
      "  0.4        0.4       ]]\n"
     ]
    }
   ],
   "source": [
    "xtoday = np.array([[1],[0],[0]])\n",
    "the_weather = np.zeros((3,50))\n",
    "the_weather[:,0] = xtoday[:,0]\n",
    "for k in range(50):\n",
    "    xtomorrow = A@xtoday\n",
    "    the_weather[:,k] = xtomorrow[:,0]\n",
    "    xtoday = xtomorrow\n",
    "print(the_weather)"
   ]
  },
  {
   "cell_type": "markdown",
   "metadata": {},
   "source": [
    "Transpose \"bytter akserne\", se forklaring https://numpy.org/doc/stable/reference/generated/numpy.ndarray.transpose.html"
   ]
  },
  {
   "cell_type": "code",
   "execution_count": 17,
   "metadata": {},
   "outputs": [
    {
     "data": {
      "text/plain": [
       "[<matplotlib.lines.Line2D at 0x1e8da3aaaf0>]"
      ]
     },
     "execution_count": 17,
     "metadata": {},
     "output_type": "execute_result"
    },
    {
     "data": {
      "image/png": "[encoded data removed]",
      "text/plain": [
       "<Figure size 640x480 with 1 Axes>"
      ]
     },
     "metadata": {},
     "output_type": "display_data"
    }
   ],
   "source": [
    "plt.plot(the_weather.transpose())\n",
    "plt.plot(True)"
   ]
  }
 ],
 "metadata": {
  "kernelspec": {
   "display_name": "Python 3.9.12 64-bit",
   "language": "python",
   "name": "python3"
  },
  "language_info": {
   "codemirror_mode": {
    "name": "ipython",
    "version": 3
   },
   "file_extension": ".py",
   "mimetype": "text/x-python",
   "name": "python",
   "nbconvert_exporter": "python",
   "pygments_lexer": "ipython3",
   "version": "3.9.12"
  },
  "orig_nbformat": 4,
  "vscode": {
   "interpreter": {
    "hash": "64eb6b266712e4adb73939912afc86933311fe525c42cb06baea617e7269dbfc"
   }
  }
 },
 "nbformat": 4,
 "nbformat_minor": 2
}
