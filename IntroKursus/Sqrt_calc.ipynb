{
 "cells": [
  {
   "attachments": {},
   "cell_type": "markdown",
   "metadata": {},
   "source": [
    "# Example on calculating square root of a number"
   ]
  },
  {
   "attachments": {},
   "cell_type": "markdown",
   "metadata": {},
   "source": [
    "Task: Write a program that approximates the square root defind by this:\n",
    " - Make a initialisation with x =  a/2, where a is the number you want to finde the squrre root of\n",
    " - calculate continuli new x until sufficent pressition archived, with x = (x+a/x)/2\n"
   ]
  },
  {
   "cell_type": "code",
   "execution_count": 1,
   "metadata": {},
   "outputs": [],
   "source": [
    "a = 2"
   ]
  },
  {
   "attachments": {},
   "cell_type": "markdown",
   "metadata": {},
   "source": [
    "Initial guess"
   ]
  },
  {
   "cell_type": "code",
   "execution_count": 2,
   "metadata": {},
   "outputs": [
    {
     "name": "stdout",
     "output_type": "stream",
     "text": [
      "1.4142135623730951\n"
     ]
    }
   ],
   "source": [
    "import math\n",
    "A = math.sqrt(a)\n",
    "print(A)\n",
    "\n",
    "x = a/2"
   ]
  },
  {
   "attachments": {},
   "cell_type": "markdown",
   "metadata": {},
   "source": [
    "First run"
   ]
  },
  {
   "cell_type": "code",
   "execution_count": 4,
   "metadata": {},
   "outputs": [
    {
     "name": "stdout",
     "output_type": "stream",
     "text": [
      "1.5\n",
      "Error:  -0.08578643762690485\n"
     ]
    }
   ],
   "source": [
    "x = (x+a/x)/2\n",
    "print(x)\n",
    "print('Error: ', A-x)"
   ]
  },
  {
   "attachments": {},
   "cell_type": "markdown",
   "metadata": {},
   "source": [
    "Second run"
   ]
  },
  {
   "cell_type": "code",
   "execution_count": 5,
   "metadata": {},
   "outputs": [
    {
     "name": "stdout",
     "output_type": "stream",
     "text": [
      "1.4166666666666665\n",
      "Error:  -0.002453104293571373\n"
     ]
    }
   ],
   "source": [
    "x = (x+a/x)/2\n",
    "print(x)\n",
    "print('Error: ', A-x)"
   ]
  },
  {
   "attachments": {},
   "cell_type": "markdown",
   "metadata": {},
   "source": [
    "Third run"
   ]
  },
  {
   "cell_type": "code",
   "execution_count": 6,
   "metadata": {},
   "outputs": [
    {
     "name": "stdout",
     "output_type": "stream",
     "text": [
      "1.4142156862745097\n",
      "Error:  -2.123901414519125e-06\n"
     ]
    }
   ],
   "source": [
    "x = (x+a/x)/2\n",
    "print(x)\n",
    "print('Error: ', A-x)"
   ]
  },
  {
   "attachments": {},
   "cell_type": "markdown",
   "metadata": {},
   "source": [
    "Implemented in a loop"
   ]
  },
  {
   "cell_type": "code",
   "execution_count": 13,
   "metadata": {},
   "outputs": [
    {
     "name": "stdout",
     "output_type": "stream",
     "text": [
      "10.000046356507898  efter  5  loops\n"
     ]
    }
   ],
   "source": [
    "a=100\n",
    "x=a/2\n",
    "A = math.sqrt(a)\n",
    "noLoops = 0\n",
    "while (abs(A-x)>0.001):\n",
    "    x = (x+a/x)/2\n",
    "    noLoops += 1\n",
    "\n",
    "print(x, ' efter ', noLoops, ' loops')"
   ]
  }
 ],
 "metadata": {
  "kernelspec": {
   "display_name": "Python 3",
   "language": "python",
   "name": "python3"
  },
  "language_info": {
   "codemirror_mode": {
    "name": "ipython",
    "version": 3
   },
   "file_extension": ".py",
   "mimetype": "text/x-python",
   "name": "python",
   "nbconvert_exporter": "python",
   "pygments_lexer": "ipython3",
   "version": "3.9.12"
  },
  "vscode": {
   "interpreter": {
    "hash": "64eb6b266712e4adb73939912afc86933311fe525c42cb06baea617e7269dbfc"
   }
  }
 },
 "nbformat": 4,
 "nbformat_minor": 4
}
