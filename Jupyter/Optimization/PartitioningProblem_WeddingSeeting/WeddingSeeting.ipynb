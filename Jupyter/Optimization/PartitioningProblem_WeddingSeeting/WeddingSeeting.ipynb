{
 "cells": [
  {
   "attachments": {},
   "cell_type": "markdown",
   "metadata": {},
   "source": [
    "# Set Partitioning Problem\n",
    "A set partitioning problem determines how the items in one set (S) can be partitioned into smaller subsets. All items in S must be contained in one and only one partition. Related problems are:\n",
    "\n",
    "- set packing - all items must be contained in zero or one partitions;\n",
    "- set covering - all items must be contained in at least one partition.\n",
    "\n",
    "In this case study a wedding planner must determine guest seating allocations for a wedding. To model this problem the tables are modelled as the partitions and the guests invited to the wedding are modelled as the elements of S. The wedding planner wishes to maximise the total happiness of all of the tables. \n",
    "\n",
    "A set partitioning problem may be modelled by explicitly enumerating each possible subset. Though this approach does become intractable for large numbers of items (without using column generation) it does have the advantage that the objective function co-efficients for the partitions can be non-linear expressions (like happiness) and still allow this problem to be solved using Linear Programming.\n",
    "\n",
    "From: https://coin-or.github.io/pulp/CaseStudies/a_set_partitioning_problem.html#set-partitioning-problem"
   ]
  },
  {
   "cell_type": "code",
   "execution_count": 4,
   "metadata": {},
   "outputs": [],
   "source": [
    "import pulp as pl"
   ]
  },
  {
   "cell_type": "code",
   "execution_count": 1,
   "metadata": {},
   "outputs": [],
   "source": [
    "max_tables = 2\n",
    "max_table_size = 8\n",
    "# guests = \"A B C D E F G H I J K L M N O P Q R S\".split()\n",
    "guests = \"A B C D\".split()"
   ]
  },
  {
   "cell_type": "code",
   "execution_count": 2,
   "metadata": {},
   "outputs": [],
   "source": [
    "def happiness(table):\n",
    "    \"\"\"\n",
    "    Find the happiness of the table\n",
    "    - by calculating the maximum distance between the letters\n",
    "    \"\"\"\n",
    "    return abs(ord(table[0]) - ord(table[-1]))"
   ]
  },
  {
   "cell_type": "code",
   "execution_count": 5,
   "metadata": {},
   "outputs": [],
   "source": [
    "# create list of all possible tables\n",
    "possible_tables = [tuple(c) for c in pl.allcombinations(guests, max_table_size)]"
   ]
  },
  {
   "cell_type": "code",
   "execution_count": 6,
   "metadata": {},
   "outputs": [],
   "source": [
    "# create a binary variable to state that a table setting is used\n",
    "x = pl.LpVariable.dicts(\n",
    "    \"table\", possible_tables, lowBound=0, upBound=1, cat=pl.LpInteger\n",
    ")"
   ]
  },
  {
   "attachments": {},
   "cell_type": "markdown",
   "metadata": {},
   "source": [
    "We create the LpProblem and then make the objective function. Note that happiness function used in this script would be difficult to model in any other way."
   ]
  },
  {
   "cell_type": "code",
   "execution_count": 61,
   "metadata": {},
   "outputs": [],
   "source": [
    "seating_model = pl.LpProblem(\"Wedding Seating Model\", pl.LpMinimize)\n",
    "\n",
    "seating_model += pl.lpSum([happiness(table) * x[table] for table in possible_tables])"
   ]
  },
  {
   "attachments": {},
   "cell_type": "markdown",
   "metadata": {},
   "source": [
    "Her samles det i modellen:\n",
    "- x er array af alle pladser"
   ]
  },
  {
   "cell_type": "code",
   "execution_count": 7,
   "metadata": {},
   "outputs": [
    {
     "name": "stdout",
     "output_type": "stream",
     "text": [
      "{('A',): table_('A',), ('B',): table_('B',), ('C',): table_('C',), ('D',): table_('D',), ('A', 'B'): table_('A',_'B'), ('A', 'C'): table_('A',_'C'), ('A', 'D'): table_('A',_'D'), ('B', 'C'): table_('B',_'C'), ('B', 'D'): table_('B',_'D'), ('C', 'D'): table_('C',_'D'), ('A', 'B', 'C'): table_('A',_'B',_'C'), ('A', 'B', 'D'): table_('A',_'B',_'D'), ('A', 'C', 'D'): table_('A',_'C',_'D'), ('B', 'C', 'D'): table_('B',_'C',_'D'), ('A', 'B', 'C', 'D'): table_('A',_'B',_'C',_'D')}\n"
     ]
    }
   ],
   "source": [
    "print(x)"
   ]
  },
  {
   "attachments": {},
   "cell_type": "markdown",
   "metadata": {},
   "source": [
    "Possible_tables indeholder et array af alle kombinationerne, fx bord 0 er ('A'), bord 100 er ('F', 'H') og bord 10000 er ('B', 'H', 'I', 'L', 'P')"
   ]
  },
  {
   "cell_type": "code",
   "execution_count": 74,
   "metadata": {},
   "outputs": [
    {
     "name": "stdout",
     "output_type": "stream",
     "text": [
      "('A',)\n"
     ]
    }
   ],
   "source": [
    "print(possible_tables[0])"
   ]
  },
  {
   "cell_type": "code",
   "execution_count": 62,
   "metadata": {},
   "outputs": [],
   "source": [
    "# specify the maximum number of tables\n",
    "seating_model += (\n",
    "    pl.lpSum([x[table] for table in possible_tables]) <= max_tables,\n",
    "    \"Maximum_number_of_tables\",\n",
    ")"
   ]
  },
  {
   "cell_type": "code",
   "execution_count": 63,
   "metadata": {},
   "outputs": [],
   "source": [
    "# A guest must seated at one and only one table\n",
    "for guest in guests:\n",
    "    seating_model += (\n",
    "        pl.lpSum([x[table] for table in possible_tables if guest in table]) == 1,\n",
    "        f\"Must_seat_{guest}\",\n",
    "    )"
   ]
  },
  {
   "cell_type": "code",
   "execution_count": 64,
   "metadata": {},
   "outputs": [],
   "source": [
    "# I've taken the optimal solution from a previous solving. x is the variable dictionary.\n",
    "# solution = {\n",
    "#     (\"M\", \"N\"): 1.0,\n",
    "#     (\"E\", \"F\", \"G\"): 1.0,\n",
    "#     (\"A\", \"B\", \"C\", \"D\"): 1.0,\n",
    "#     (\"I\", \"J\", \"K\", \"L\"): 1.0,\n",
    "#     (\"O\", \"P\", \"Q\", \"R\"): 1.0,\n",
    "# }\n",
    "# for k, v in solution.items():\n",
    "#     x[k].setInitialValue(v)"
   ]
  },
  {
   "cell_type": "code",
   "execution_count": 65,
   "metadata": {},
   "outputs": [
    {
     "data": {
      "text/plain": [
       "1"
      ]
     },
     "execution_count": 65,
     "metadata": {},
     "output_type": "execute_result"
    }
   ],
   "source": [
    "solver = pl.PULP_CBC_CMD(msg=True, warmStart=True)\n",
    "# solver = pulp.CPLEX_CMD(msg=True, warmStart=True)\n",
    "# solver = pulp.GUROBI_CMD(msg=True, warmStart=True)\n",
    "# solver = pulp.CPLEX_PY(msg=True, warmStart=True)\n",
    "# solver = pulp.GUROBI(msg=True, warmStart=True)\n",
    "seating_model.solve(solver)"
   ]
  },
  {
   "cell_type": "code",
   "execution_count": 66,
   "metadata": {},
   "outputs": [
    {
     "name": "stdout",
     "output_type": "stream",
     "text": [
      "The choosen tables are out of a total of 169765:\n",
      "('O', 'P', 'Q', 'R', 'S')\n",
      "('A', 'B', 'C', 'D', 'E', 'F', 'G')\n",
      "('H', 'I', 'J', 'K', 'L', 'M', 'N')\n"
     ]
    }
   ],
   "source": [
    "print(f\"The choosen tables are out of a total of {len(possible_tables)}:\")\n",
    "for table in possible_tables:\n",
    "    if x[table].value() == 1.0:\n",
    "        print(table)"
   ]
  }
 ],
 "metadata": {
  "kernelspec": {
   "display_name": "Python 3",
   "language": "python",
   "name": "python3"
  },
  "language_info": {
   "codemirror_mode": {
    "name": "ipython",
    "version": 3
   },
   "file_extension": ".py",
   "mimetype": "text/x-python",
   "name": "python",
   "nbconvert_exporter": "python",
   "pygments_lexer": "ipython3",
   "version": "3.10.4"
  },
  "orig_nbformat": 4,
  "vscode": {
   "interpreter": {
    "hash": "26de051ba29f2982a8de78e945f0abaf191376122a1563185a90213a26c5da77"
   }
  }
 },
 "nbformat": 4,
 "nbformat_minor": 2
}
