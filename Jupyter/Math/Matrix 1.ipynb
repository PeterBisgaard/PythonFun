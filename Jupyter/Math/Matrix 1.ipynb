{
 "cells": [
  {
   "cell_type": "markdown",
   "id": "15316bab",
   "metadata": {},
   "source": [
    "# Matrix operationer"
   ]
  },
  {
   "cell_type": "code",
   "execution_count": 1,
   "id": "d06afe2d",
   "metadata": {},
   "outputs": [],
   "source": [
    "import numpy as np"
   ]
  },
  {
   "cell_type": "markdown",
   "id": "c49ceb93",
   "metadata": {},
   "source": [
    "numpy dokumentation kan findes her https://numpy.org/doc/stable/index.html"
   ]
  },
  {
   "cell_type": "code",
   "execution_count": 2,
   "id": "721802b8",
   "metadata": {},
   "outputs": [],
   "source": [
    "my_first_matrix = np.matrix([[1,2,3],[4,5,6],[7,8,9]])"
   ]
  },
  {
   "cell_type": "code",
   "execution_count": 3,
   "id": "f4f9d632",
   "metadata": {},
   "outputs": [
    {
     "data": {
      "text/plain": [
       "matrix([[1, 2, 3],\n",
       "        [4, 5, 6],\n",
       "        [7, 8, 9]])"
      ]
     },
     "execution_count": 3,
     "metadata": {},
     "output_type": "execute_result"
    }
   ],
   "source": [
    "my_first_matrix"
   ]
  },
  {
   "cell_type": "markdown",
   "id": "275b93f4",
   "metadata": {},
   "source": [
    "Transform matrix, ved at tilføje proberty T "
   ]
  },
  {
   "cell_type": "code",
   "execution_count": 4,
   "id": "f5698751",
   "metadata": {},
   "outputs": [
    {
     "data": {
      "text/plain": [
       "matrix([[1, 4, 7],\n",
       "        [2, 5, 8],\n",
       "        [3, 6, 9]])"
      ]
     },
     "execution_count": 4,
     "metadata": {},
     "output_type": "execute_result"
    }
   ],
   "source": [
    "my_first_matrix.T"
   ]
  },
  {
   "cell_type": "markdown",
   "id": "2b179a77",
   "metadata": {},
   "source": [
    "Bemærk at man ikke ændre værdien i det defineret objet, men kun outpttet af my_first_matrix, "
   ]
  },
  {
   "cell_type": "markdown",
   "id": "488635e3",
   "metadata": {},
   "source": [
    "Skal output gemmes skal men tildele en ny variabel, "
   ]
  },
  {
   "cell_type": "code",
   "execution_count": 15,
   "id": "7bddd5b2",
   "metadata": {},
   "outputs": [],
   "source": [
    "my_second_matrix = my_first_matrix * 2"
   ]
  },
  {
   "cell_type": "code",
   "execution_count": 16,
   "id": "273e92c4",
   "metadata": {},
   "outputs": [
    {
     "data": {
      "text/plain": [
       "matrix([[ 2,  4,  6],\n",
       "        [ 8, 10, 12],\n",
       "        [14, 16, 18]])"
      ]
     },
     "execution_count": 16,
     "metadata": {},
     "output_type": "execute_result"
    }
   ],
   "source": [
    "my_second_matrix"
   ]
  },
  {
   "cell_type": "markdown",
   "id": "457e42ee",
   "metadata": {},
   "source": [
    "## Eksempel: Løsning af 2 ligninger med 2 ubekendte\n",
    "1: 3x + 4y = 3 \\\n",
    "2: 4x - 5y = 3 \\\n",
    "Bemærk at matrisen skal skrives op rækkevis, dvs. [3x, 4y],[4x, 5y]"
   ]
  },
  {
   "cell_type": "code",
   "execution_count": 7,
   "id": "443c2b7b",
   "metadata": {},
   "outputs": [
    {
     "data": {
      "text/plain": [
       "array([[3, 4],\n",
       "       [4, 5]])"
      ]
     },
     "execution_count": 7,
     "metadata": {},
     "output_type": "execute_result"
    }
   ],
   "source": [
    "a = np.array([[3, 4], [4, 5]])\n",
    "a"
   ]
  },
  {
   "cell_type": "code",
   "execution_count": 8,
   "id": "273cd8a7",
   "metadata": {},
   "outputs": [
    {
     "data": {
      "text/plain": [
       "array([3, 3])"
      ]
     },
     "execution_count": 8,
     "metadata": {},
     "output_type": "execute_result"
    }
   ],
   "source": [
    "b = np.array([3, 3])\n",
    "b"
   ]
  },
  {
   "cell_type": "code",
   "execution_count": 9,
   "id": "0f6ba775",
   "metadata": {},
   "outputs": [
    {
     "data": {
      "text/plain": [
       "array([-3.,  3.])"
      ]
     },
     "execution_count": 9,
     "metadata": {},
     "output_type": "execute_result"
    }
   ],
   "source": [
    "x = np.linalg.solve(a, b)\n",
    "x"
   ]
  },
  {
   "cell_type": "markdown",
   "id": "955c7696",
   "metadata": {},
   "source": [
    "## Eksempel: Løsning af 3 ligninger med 3 ubekendte\n",
    "1: x + y + z = 5 \\\n",
    "2: 2x - y + z = 9 \\\n",
    "3: x - 2y + 3z = 16"
   ]
  },
  {
   "cell_type": "code",
   "execution_count": 10,
   "id": "ca21226e",
   "metadata": {},
   "outputs": [
    {
     "data": {
      "text/plain": [
       "array([[ 1,  1,  1],\n",
       "       [ 2, -1,  1],\n",
       "       [ 1, -2,  3]])"
      ]
     },
     "execution_count": 10,
     "metadata": {},
     "output_type": "execute_result"
    }
   ],
   "source": [
    "a = np.array([[1, 1, 1], [2, -1, 1], [1, -2, 3]])\n",
    "a"
   ]
  },
  {
   "cell_type": "code",
   "execution_count": 11,
   "id": "df4f4e8a",
   "metadata": {},
   "outputs": [
    {
     "data": {
      "text/plain": [
       "array([ 5,  9, 16])"
      ]
     },
     "execution_count": 11,
     "metadata": {},
     "output_type": "execute_result"
    }
   ],
   "source": [
    "b = np.array([5, 9, 16])\n",
    "b"
   ]
  },
  {
   "cell_type": "code",
   "execution_count": 12,
   "id": "1bf5e2ad",
   "metadata": {},
   "outputs": [
    {
     "data": {
      "text/plain": [
       "array([ 2., -1.,  4.])"
      ]
     },
     "execution_count": 12,
     "metadata": {},
     "output_type": "execute_result"
    }
   ],
   "source": [
    "\n",
    "x = np.linalg.solve(a, b)\n",
    "x"
   ]
  },
  {
   "cell_type": "markdown",
   "id": "c0fef799",
   "metadata": {},
   "source": [
    "## Øvrige matris funktioner"
   ]
  },
  {
   "cell_type": "markdown",
   "id": "a4f85a9f",
   "metadata": {},
   "source": [
    "Man kan lave en identity matrix med kommandoen eye(\"size\")\n",
    "The identity matrix of size n is the n × n square matrix with ones on the main diagonal and zeros elsewhere."
   ]
  },
  {
   "cell_type": "code",
   "execution_count": 13,
   "id": "5372f84f",
   "metadata": {},
   "outputs": [
    {
     "data": {
      "text/plain": [
       "array([[1., 0., 0., 0.],\n",
       "       [0., 1., 0., 0.],\n",
       "       [0., 0., 1., 0.],\n",
       "       [0., 0., 0., 1.]])"
      ]
     },
     "execution_count": 13,
     "metadata": {},
     "output_type": "execute_result"
    }
   ],
   "source": [
    "np.eye(4)"
   ]
  },
  {
   "cell_type": "markdown",
   "id": "4695aa00",
   "metadata": {},
   "source": [
    "Invers matrix laves me proberty I"
   ]
  },
  {
   "cell_type": "code",
   "execution_count": 14,
   "id": "e7a5d3d7",
   "metadata": {
    "scrolled": false
   },
   "outputs": [
    {
     "data": {
      "text/plain": [
       "matrix([[ 3.15251974e+15, -6.30503948e+15,  3.15251974e+15],\n",
       "        [-6.30503948e+15,  1.26100790e+16, -6.30503948e+15],\n",
       "        [ 3.15251974e+15, -6.30503948e+15,  3.15251974e+15]])"
      ]
     },
     "execution_count": 14,
     "metadata": {},
     "output_type": "execute_result"
    }
   ],
   "source": [
    "my_first_matrix.I"
   ]
  }
 ],
 "metadata": {
  "kernelspec": {
   "display_name": "Python 3",
   "language": "python",
   "name": "python3"
  },
  "language_info": {
   "codemirror_mode": {
    "name": "ipython",
    "version": 3
   },
   "file_extension": ".py",
   "mimetype": "text/x-python",
   "name": "python",
   "nbconvert_exporter": "python",
   "pygments_lexer": "ipython3",
   "version": "3.10.4"
  },
  "vscode": {
   "interpreter": {
    "hash": "26de051ba29f2982a8de78e945f0abaf191376122a1563185a90213a26c5da77"
   }
  }
 },
 "nbformat": 4,
 "nbformat_minor": 5
}
